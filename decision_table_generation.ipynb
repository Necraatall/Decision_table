{
 "cells": [
  {
   "cell_type": "markdown",
   "metadata": {},
   "source": [
    "# Vytváření decision table\n",
    "\n",
    "Tento notebook slouží k vytváření decision table"
   ]
  },
  {
   "cell_type": "markdown",
   "metadata": {},
   "source": [
    "## Vytvoření základních definic\n",
    "\n",
    "V této části se vytváří definice základních datových typů, výchozích hodnot, podmínek, a sloupců, které tyto datové typy používají.\n",
    "\n",
    "V některých případech se zde používá [dataclass](https://docs.python.org/3/library/dataclasses.html), aby se zjednodušilo vytvoření třídy."
   ]
  },
  {
   "cell_type": "code",
   "execution_count": null,
   "metadata": {},
   "outputs": [
    {
     "ename": "",
     "evalue": "",
     "output_type": "error",
     "traceback": [
      "\u001b[1;31mJupyter cannot be started. Error attempting to locate jupyter: Running cells with 'Python 3.8.10 64-bit' requires notebook and jupyter package.\n",
      "Run the following command to install 'jupyter and notebook' into the Python environment. \n",
      "Command: 'python -m pip install jupyter notebook -U\n",
      "or\n",
      "conda install jupyter notebook -U'\n",
      "Click <a href='https://aka.ms/installJupyterForVSCode'>here</a> for more info."
     ]
    }
   ],
   "source": [
    "from dataclasses import dataclass\n",
    "from enum import Enum, auto\n",
    "from typing import Dict, List, Optional, Any\n",
    "\n",
    "class Typ(Enum):\n",
    "    INTEGER = auto()\n",
    "    DECIMAL = auto()\n",
    "    STRING = auto()\n",
    "    ENUM = auto()\n",
    "    DATE = auto()\n",
    "    BOOLEAN = auto()\n",
    "\n",
    "class Status_Testu(Enum):\n",
    "    SUCCESS = auto()\n",
    "    FAILURE = auto()\n",
    "\n",
    "@dataclass\n",
    "class ZkouskaHodnoty:\n",
    "    podminka: str\n",
    "    vysledek: Status_Testu\n",
    "    popisek: Optional[str] = None\n",
    "\n",
    "    ############################################################################\n",
    "    # Konverze 'z' a 'do' slovníku pro umožnění\n",
    "    # práce s pandas a čtení/zápisu do CSV\n",
    "    ############################################################################\n",
    "    # def to_dict(self):\n",
    "    #     return self.__dict__()\n",
    "    \n",
    "    # @staticmethod\n",
    "    # def from_dict(dictionary):\n",
    "    #     return ZkouskaHodnoty(**dictionary)\n",
    "    #     return ZkouskaHodnoty(klic1=hodnota1, klic2=hodnota2, klic3=hodnota3)\n",
    "    ############################################################################\n",
    "\n",
    "mozne_hodnoty_datove_typy = {\n",
    "    Typ.INTEGER: [\n",
    "        ZkouskaHodnoty(\"\", Status_Testu.SUCCESS),\n",
    "        ZkouskaHodnoty(\"Equals 1\", Status_Testu.SUCCESS),\n",
    "        ZkouskaHodnoty(\"Equals same value as in table\", Status_Testu.SUCCESS),\n",
    "        ZkouskaHodnoty(\"Equals +1\", Status_Testu.FAILURE),\n",
    "        ZkouskaHodnoty(\"Equals -1\", Status_Testu.FAILURE),\n",
    "        ZkouskaHodnoty(\"Equals 'ABCDEF'\", Status_Testu.FAILURE, \"error message should be visible\"),\n",
    "        ZkouskaHodnoty(\"Not Equals 3\", Status_Testu.SUCCESS),\n",
    "        ZkouskaHodnoty(\"Greater Than 3\", Status_Testu.SUCCESS),\n",
    "        ZkouskaHodnoty(\"Greater Than Or Equal 3\", Status_Testu.SUCCESS),\n",
    "        ZkouskaHodnoty(\"Less Than 3\", Status_Testu.SUCCESS),\n",
    "        ZkouskaHodnoty(\"Less Than 9223372036854775807\", Status_Testu.SUCCESS),\n",
    "        ZkouskaHodnoty(\"Less Than 999999999999999999999999999999999999999\", Status_Testu.FAILURE),\n",
    "        ZkouskaHodnoty(\"Less Than Or Equal 3\", Status_Testu.SUCCESS),\n",
    "        ZkouskaHodnoty(\"Blank\", Status_Testu.SUCCESS),\n",
    "        ZkouskaHodnoty(\"Not Blank\", Status_Testu.SUCCESS),\n",
    "        ZkouskaHodnoty(\"In Range (1,10)\", Status_Testu.SUCCESS),\n",
    "        ZkouskaHodnoty(\"Greater Than Or Equal 1 AND Less Than Or Equal 10\", Status_Testu.SUCCESS),\n",
    "        ZkouskaHodnoty(\"Equals 1 OR Equals 5\", Status_Testu.SUCCESS),\n",
    "        ZkouskaHodnoty(\"Equals 1 OR Greater Than 5\", Status_Testu.SUCCESS),\n",
    "    ],\n",
    "    Typ.DECIMAL: [\n",
    "        ZkouskaHodnoty(\"\", Status_Testu.SUCCESS),\n",
    "        ZkouskaHodnoty(\"Equals 1\", Status_Testu.SUCCESS),\n",
    "        ZkouskaHodnoty(\"Equals 5\", Status_Testu.SUCCESS),\n",
    "        ZkouskaHodnoty(\"Equals 6\", Status_Testu.SUCCESS),\n",
    "        ZkouskaHodnoty(\"Equals ABCDEF\", Status_Testu.FAILURE, \"error message should be visible\"),\n",
    "        ZkouskaHodnoty(\"Not Equals 3\", Status_Testu.SUCCESS),\n",
    "        ZkouskaHodnoty(\"Greater Than 3\", Status_Testu.SUCCESS),\n",
    "        ZkouskaHodnoty(\"Greater Than Or Equal 3\", Status_Testu.SUCCESS),\n",
    "        ZkouskaHodnoty(\"Less Than 3\", Status_Testu.SUCCESS),\n",
    "        ZkouskaHodnoty(\"Less Than Or Equal 3\", Status_Testu.SUCCESS),\n",
    "        ZkouskaHodnoty(\"Blank\", Status_Testu.SUCCESS),\n",
    "        ZkouskaHodnoty(\"Not Blank\", Status_Testu.SUCCESS),\n",
    "        ZkouskaHodnoty(\"In Range (1,10)\", Status_Testu.SUCCESS),\n",
    "        ZkouskaHodnoty(\"Greater Than Or Equal 1 AND Less Than Or Equal 10\", Status_Testu.SUCCESS),\n",
    "        ZkouskaHodnoty(\"Equals 1 OR Equals 5\", Status_Testu.SUCCESS),\n",
    "        ZkouskaHodnoty(\"Equals 1 OR Greater Than 5\", Status_Testu.SUCCESS),\n",
    "    ],\n",
    "    Typ.BOOLEAN: [\n",
    "        ZkouskaHodnoty(\"\", Status_Testu.SUCCESS),\n",
    "        ZkouskaHodnoty(\"true\", Status_Testu.SUCCESS),\n",
    "        ZkouskaHodnoty(\"false\", Status_Testu.SUCCESS),\n",
    "        ZkouskaHodnoty(\"GROUPBY\", Status_Testu.SUCCESS),\n",
    "    ],\n",
    "    Typ.STRING: [\n",
    "        ZkouskaHodnoty(\"\", Status_Testu.SUCCESS),\n",
    "        ZkouskaHodnoty(\"Contains 'Z'\", Status_Testu.SUCCESS),\n",
    "        ZkouskaHodnoty(\"Starts With 'Z'\", Status_Testu.SUCCESS),\n",
    "        ZkouskaHodnoty(\"Ends With 'Z'\", Status_Testu.SUCCESS),\n",
    "        ZkouskaHodnoty(\"Contains 'a' OR Contains 'A'\", Status_Testu.SUCCESS),\n",
    "        ZkouskaHodnoty(\"Contains 'a' AND Contains 'A'\", Status_Testu.SUCCESS),\n",
    "    ],\n",
    "    Typ.DATE: [\n",
    "        ZkouskaHodnoty(\"\", Status_Testu.SUCCESS),\n",
    "        ZkouskaHodnoty(\"Greater Than 2000-01-01\", Status_Testu.SUCCESS),\n",
    "        ZkouskaHodnoty(\"Less Than 9999-12-31\", Status_Testu.SUCCESS),\n",
    "        ZkouskaHodnoty(\"Less Than 999999-12-31\", Status_Testu.FAILURE),\n",
    "        ZkouskaHodnoty(\"Greater Than 2000-01-01 AND Less Than 9999-12-31\", Status_Testu.SUCCESS),\n",
    "        ZkouskaHodnoty(\"Blank\", Status_Testu.SUCCESS),\n",
    "        ZkouskaHodnoty(\"Not Blank\", Status_Testu.SUCCESS),\n",
    "    ],\n",
    "    Typ.ENUM: [\n",
    "        ZkouskaHodnoty(\"\", Status_Testu.SUCCESS),\n",
    "        ZkouskaHodnoty(\"GROUPBY\", Status_Testu.SUCCESS),\n",
    "    ]\n",
    "}\n",
    "\n",
    "@dataclass\n",
    "class Sloupec:\n",
    "    nazev: str\n",
    "    typ: Typ\n",
    "    isNullable: bool = False\n",
    "    moznosti: Optional[List[str]] = None\n",
    "\n",
    "sloupce: List[Sloupec] = [\n",
    "    Sloupec(\"Order Qty\", Typ.DECIMAL, False),\n",
    "    Sloupec(\"Replenishment LT\", Typ.INTEGER, False),\n",
    "    Sloupec(\"LT Offset\", Typ.INTEGER, False),\n",
    "    Sloupec(\"Manufacturing LT\", Typ.INTEGER, False),\n",
    "    Sloupec(\"Action\", Typ.ENUM, False, [\"REQUIRESATTENTION\",\n",
    "                                        \"REQUIRESRELEASE\",\n",
    "                                        \"REQUIRESAPPROVAL\",\n",
    "                                        \"RELEASED\",\n",
    "                                        \"POSTPONED\",\n",
    "                                        \"TODO\",\n",
    "                                        \"REJECTED\"]),\n",
    "    Sloupec(\"SupplyType\", Typ.ENUM, False, [\n",
    "        \"Manufactured\",\n",
    "        \"Distributed\",\n",
    "        \"Purchased\",\n",
    "    ]),\n",
    "    Sloupec(\"Status\", Typ.ENUM, False, [\n",
    "        \"REDFLOW\",\n",
    "        \"YELLOWFLOW\",\n",
    "        \"GREENFLOW\",\n",
    "        \"BLUEFLOW\",\n",
    "        \"GREENFEP\",\n",
    "        \"REDFEP\",\n",
    "        \"RTO\",\n",
    "        \"REDVOLUME\",\n",
    "        \"YELLOWVOLUME\",\n",
    "        \"GREENVOLUME\",\n",
    "        \"BLUEVOLUME\",\n",
    "    ]),\n",
    "    Sloupec(\"Rule\", Typ.ENUM, False, [\n",
    "        \"FLOW\",\n",
    "        \"BUFFER\",\n",
    "        \"CYCLIC\",\n",
    "        \"LOW\",\n",
    "        \"RTO\",\n",
    "        \"FEP\",\n",
    "        \"TWOBIN\",\n",
    "        \"MANUAL\",\n",
    "    ]),\n",
    "    Sloupec(\"Multi-sourced\", Typ.BOOLEAN, False),\n",
    "    Sloupec(\"Special Demand\", Typ.BOOLEAN, False),\n",
    "    Sloupec(\"Flagged\", Typ.BOOLEAN, False),\n",
    "    Sloupec(\"Item\", Typ.STRING, moznosti=[\n",
    "        \"Starts With '5500'\",\n",
    "        \"Contains '24'\",\n",
    "        \"Starts With '5500' OR Starts With '500'\",\n",
    "        \"Ends With '9'\",\n",
    "        \"Contains '4' AND Contains '2'\",\n",
    "        \"Starts With '5' AND Ends With '1'\",\n",
    "    ]),\n",
    "    Sloupec(\"Description\", Typ.STRING, moznosti=[\n",
    "        \"Contains 'Omala'\",\n",
    "        \"Starts With 'Omala'\",\n",
    "        \"Starts With 'Omala' OR Starts With 'Corena'\",\n",
    "        \"Starts With 'Refrig' OR Contains 'Gadus'\",\n",
    "        \"Starts With 'Omala' AND Contains 'S4'\",\n",
    "    ]),\n",
    "    Sloupec(\"Part Status\", Typ.ENUM, moznosti=[\n",
    "        \"02\", \"05\"\n",
    "    ]),\n",
    "    Sloupec(\"Shortage Date\", Typ.DATE, moznosti=[\n",
    "        \"Equals '2022-02-28'\",\n",
    "        \"Equals '2022-02-28' OR Equals '2022-03-02'\",\n",
    "        \"Equals '2022-02-28' OR Blank\",\n",
    "    ]),\n",
    "    Sloupec(\"Part Type Code\", Typ.ENUM, moznosti=[\n",
    "        \"ADB\",\n",
    "        \"ADP\",\n",
    "        \"APD\",\n",
    "        \"APZ\",\n",
    "        \"BSE\",\n",
    "        \"BST\",\n",
    "        \"BTV\",\n",
    "        \"D1B\",\n",
    "        \"D1P\",\n",
    "        \"DRM\",\n",
    "        \"FBE\",\n",
    "        \"FBF\",\n",
    "        \"FBR\",\n",
    "        \"FP1\",\n",
    "        \"FP2\",\n",
    "        \"FP3\",\n",
    "        \"FPC\",\n",
    "        \"FPE\",\n",
    "        \"FPF\",\n",
    "        \"GPF\",\n",
    "        \"IBC\",\n",
    "        \"LBL\",\n",
    "        \"MTO\",\n",
    "        \"NOF\",\n",
    "        \"PKG\",\n",
    "        \"PRE\",\n",
    "        \"PRL\",\n",
    "        \"PWD\",\n",
    "    ]),\n",
    "    Sloupec(\"Manufacturing LT\", Typ.INTEGER),\n",
    "    Sloupec(\"Product Family\", Typ.ENUM, moznosti=[\n",
    "        \"YBLU\",\n",
    "        \"YBSE\",\n",
    "        \"YINT\",\n",
    "        \"YPAC\",\n",
    "        \"YNOP\",\n",
    "        \"YPCK\",\n",
    "        \"YRAW\",\n",
    "    ]),\n",
    "    Sloupec(\"Material Type\", Typ.ENUM, moznosti=[\n",
    "        \"E\",\n",
    "        \"F\"\n",
    "    ]),\n",
    "    Sloupec(\"Max Order Qty\", Typ.DECIMAL),\n",
    "    Sloupec(\"Min Order Qty\", Typ.DECIMAL),\n",
    "    Sloupec(\"Multiple order Qty\", Typ.DECIMAL),\n",
    "    Sloupec(\"Container Qty\", Typ.DECIMAL),\n",
    "    Sloupec(\"Phase-in\", Typ.DATE),\n",
    "    Sloupec(\"Phase-out\", Typ.DATE),\n",
    "    Sloupec(\"UOM\", Typ.ENUM, moznosti=[\n",
    "        \"EA\",\n",
    "        \"KAR\",\n",
    "        \"KG\",\n",
    "        \"L\",\n",
    "        \"LB\",\n",
    "        \"SKU\",\n",
    "        \"TO\",\n",
    "        \"UG6\",\n",
    "    ]),\n",
    "    Sloupec(\"Report Field 1\", Typ.STRING),\n",
    "    Sloupec(\"Planner Code\", Typ.INTEGER),\n",
    "    Sloupec(\"Supplier Code\", Typ.ENUM, moznosti=[\n",
    "        \"T124\",\n",
    "        \"R037\",\n",
    "        \"P083\",\n",
    "        \"I480\",\n",
    "        \"I353\",\n",
    "    ]),\n",
    "    Sloupec(\"Order Value\", Typ.DECIMAL),\n",
    "    Sloupec(\"Original Order Qty\", Typ.DECIMAL),\n",
    "    Sloupec(\"On-hand Qty\", Typ.DECIMAL),\n",
    "    Sloupec(\"Excess Qty\", Typ.DECIMAL),\n",
    "    Sloupec(\"Shortage Qty\", Typ.DECIMAL),\n",
    "    Sloupec(\"Planned Receipt\", Typ.DATE),\n",
    "    Sloupec(\"Material\", Typ.ENUM, moznosti=[\n",
    "        \"NA\",\n",
    "        \"Yes\",\n",
    "        \"No\",\n",
    "    ]),\n",
    "    Sloupec(\"Capacity\", Typ.ENUM, moznosti=[\n",
    "        \"Available\",\n",
    "        \"N/A\",\n",
    "        \"Not Available\",\n",
    "        \"Partially Available\",\n",
    "    ]),\n",
    "    Sloupec(\"RTO Priority\", Typ.DECIMAL),\n",
    "    Sloupec(\"Resource ID\", Typ.STRING),\n",
    "    Sloupec(\"Work Center Code\", Typ.STRING),\n",
    "    Sloupec(\"WC Supplier Code\", Typ.STRING),\n",
    "    Sloupec(\"Ordering Group\", Typ.STRING),\n",
    "    Sloupec(\"Production Version\", Typ.STRING),\n",
    "    Sloupec(\"Supply type\", Typ.ENUM, moznosti=[\n",
    "        \"Purchased\",\n",
    "        \"Manufactured\",\n",
    "        \"Distributed\",\n",
    "    ]),\n",
    "    Sloupec(\"Location\", Typ.ENUM, moznosti=[\n",
    "        \"I389\",\n",
    "        \"I340\",\n",
    "        \"I411\",\n",
    "        \"I335\",\n",
    "        \"I349\",\n",
    "        \"I477\",\n",
    "        \"I339\",\n",
    "        \"I351\",\n",
    "        \"I324\",\n",
    "        \"I337\",\n",
    "        \"P082\",\n",
    "        \"R175\",\n",
    "        \"F477\",\n",
    "        \"I486\",\n",
    "        \"T804\",\n",
    "        \"U022\",\n",
    "        \"I009\",\n",
    "        \"C311\",\n",
    "        \"C604\",\n",
    "        \"G081\",\n",
    "    ]),\n",
    "    Sloupec(\"Reference\", Typ.STRING, moznosti=[\n",
    "        \"Starts With 'SHELL'\",\n",
    "        \"Starts With 'SHELL' AND Ends With '3'\",\n",
    "    ]),\n",
    "    Sloupec(\"Settings\", Typ.STRING, moznosti=[\n",
    "        \"Starts With 'LOC'\",\n",
    "        \"Starts With 'LOC' AND Contains 'ITEM'\",\n",
    "    ]),\n",
    "]"
   ]
  },
  {
   "cell_type": "markdown",
   "metadata": {},
   "source": [
    "## Vytvoření základní tabulky\n",
    "\n",
    "Vytvoření základní tabulky s každou možnou hodnotou podmínky.\n",
    "\n",
    "Tato tabulka se použije k vygenerování finální tabulky s kombinací všech možných hodnot mezi sebou"
   ]
  },
  {
   "cell_type": "code",
   "execution_count": null,
   "metadata": {},
   "outputs": [
    {
     "ename": "",
     "evalue": "",
     "output_type": "error",
     "traceback": [
      "\u001b[1;31mJupyter cannot be started. Error attempting to locate jupyter: Running cells with 'Python 3.8.10 64-bit' requires notebook and jupyter package.\n",
      "Run the following command to install 'jupyter and notebook' into the Python environment. \n",
      "Command: 'python -m pip install jupyter notebook -U\n",
      "or\n",
      "conda install jupyter notebook -U'\n",
      "Click <a href='https://aka.ms/installJupyterForVSCode'>here</a> for more info."
     ]
    }
   ],
   "source": [
    "import pandas as pd\n",
    "from itertools import combinations\n",
    "data = {}\n",
    "\n",
    "for sloupec in sloupce:\n",
    "    typ = sloupec.typ\n",
    "    hodnoty = mozne_hodnoty_datove_typy[typ]\n",
    "    data[sloupec.nazev] = [x.podminka for x in hodnoty]\n",
    "    if sloupec.moznosti is not None:\n",
    "        data[sloupec.nazev].extend(sloupec.moznosti)\n",
    "        if sloupec.typ in (Typ.ENUM, Typ.BOOLEAN):\n",
    "            data[sloupec.nazev].extend(combinations(data[sloupec.nazev][1:], 3))"
   ]
  },
  {
   "cell_type": "markdown",
   "metadata": {},
   "source": [
    "## Generování tabulky\n",
    "\n",
    "Generování tabulky s náhodnými kombinacemi.\n",
    "\n",
    "Tento kód vygeneruje několik testů samostatně pro unikátní datové typy (STRING, ENUM, etc), a pak náhodné kombinace pro všechny"
   ]
  },
  {
   "cell_type": "code",
   "execution_count": null,
   "metadata": {},
   "outputs": [
    {
     "ename": "",
     "evalue": "",
     "output_type": "error",
     "traceback": [
      "\u001b[1;31mJupyter cannot be started. Error attempting to locate jupyter: Running cells with 'Python 3.8.10 64-bit' requires notebook and jupyter package.\n",
      "Run the following command to install 'jupyter and notebook' into the Python environment. \n",
      "Command: 'python -m pip install jupyter notebook -U\n",
      "or\n",
      "conda install jupyter notebook -U'\n",
      "Click <a href='https://aka.ms/installJupyterForVSCode'>here</a> for more info."
     ]
    }
   ],
   "source": [
    "from random import choice\n",
    "\n",
    "def generuj_tabulku(sloupce: List[Sloupec], data: Dict[str, List[str]]) -> pd.DataFrame:\n",
    "    \"\"\"Generování tabulky náhodných kombinací jednotlivých prvků\n",
    "\n",
    "    Args:\n",
    "        sloupce (List[Sloupec]): Seznam sloupců, pro které se vygenerují data\n",
    "        data (Dict[str, List[str]]): Slovník s předpřipravenými hodnotami pro každý sloupec\n",
    "\n",
    "    Returns:\n",
    "        pd.DataFrame: Pandas data frame s vygenerovanými daty.\n",
    "    \"\"\"\n",
    "    unikatni_sloupce: Dict[Typ, str] = {}\n",
    "\n",
    "    for sloupec in sloupce:\n",
    "        novy_typ = sloupec.typ\n",
    "\n",
    "        if novy_typ not in unikatni_sloupce.keys():\n",
    "            unikatni_sloupce[novy_typ] = sloupec.nazev\n",
    "    \n",
    "    radky: List[Dict[str, str]] = []\n",
    "    for sloupec in unikatni_sloupce.values():\n",
    "        sloupec_data = data[sloupec][1:]\n",
    "        for radek in sloupec_data:\n",
    "            df_radek = {}\n",
    "            for klic in data.keys():\n",
    "                df_radek[klic] = \"\"\n",
    "            df_radek[sloupec] = radek\n",
    "            radky.append(df_radek)\n",
    "    \n",
    "\n",
    "    # Hledani nejdelsiho sloupce\n",
    "    pocet = 0\n",
    "\n",
    "    for sloupec in data.keys():\n",
    "        if len(data[sloupec]) > pocet:\n",
    "            pocet = len(data[sloupec])\n",
    "    \n",
    "    for _ in range(pocet*3):\n",
    "        radky.append({x:choice(y) for x,y in data.items()})\n",
    "\n",
    "    df = pd.DataFrame(radky)\n",
    "    return df\n",
    "\n",
    "df2 = generuj_tabulku(sloupce, data)\n",
    "x = df2.drop_duplicates(data.keys())\n",
    "\n",
    "print(f\"{len(df2)=} {len(x)=}\")"
   ]
  },
  {
   "cell_type": "markdown",
   "metadata": {},
   "source": [
    "## Stávající počet všech kombinací\n",
    "\n",
    "Podíváme se, kolik teď máme všech kombinací."
   ]
  },
  {
   "cell_type": "code",
   "execution_count": null,
   "metadata": {},
   "outputs": [
    {
     "ename": "",
     "evalue": "",
     "output_type": "error",
     "traceback": [
      "\u001b[1;31mJupyter cannot be started. Error attempting to locate jupyter: Running cells with 'Python 3.8.10 64-bit' requires notebook and jupyter package.\n",
      "Run the following command to install 'jupyter and notebook' into the Python environment. \n",
      "Command: 'python -m pip install jupyter notebook -U\n",
      "or\n",
      "conda install jupyter notebook -U'\n",
      "Click <a href='https://aka.ms/installJupyterForVSCode'>here</a> for more info."
     ]
    }
   ],
   "source": [
    "print(f\"Stávající počet všech kombinací: {len(df2)}\")"
   ]
  },
  {
   "cell_type": "markdown",
   "metadata": {},
   "source": [
    "## Sample data\n",
    "\n",
    "Prvních 300 řádků v tabulce všech kombinací"
   ]
  },
  {
   "cell_type": "code",
   "execution_count": null,
   "metadata": {},
   "outputs": [
    {
     "ename": "",
     "evalue": "",
     "output_type": "error",
     "traceback": [
      "\u001b[1;31mJupyter cannot be started. Error attempting to locate jupyter: Running cells with 'Python 3.8.10 64-bit' requires notebook and jupyter package.\n",
      "Run the following command to install 'jupyter and notebook' into the Python environment. \n",
      "Command: 'python -m pip install jupyter notebook -U\n",
      "or\n",
      "conda install jupyter notebook -U'\n",
      "Click <a href='https://aka.ms/installJupyterForVSCode'>here</a> for more info."
     ]
    }
   ],
   "source": [
    "sample_data = df2.head(300)"
   ]
  },
  {
   "cell_type": "markdown",
   "metadata": {},
   "source": [
    "## Ukládání dat\n",
    "\n",
    "Uložení vytvořených dat"
   ]
  },
  {
   "cell_type": "markdown",
   "metadata": {},
   "source": [
    "### Uložení v CSV\n",
    "\n",
    "Uložení veškerých dat do CSV tabulky"
   ]
  },
  {
   "cell_type": "code",
   "execution_count": null,
   "metadata": {},
   "outputs": [
    {
     "ename": "",
     "evalue": "",
     "output_type": "error",
     "traceback": [
      "\u001b[1;31mJupyter cannot be started. Error attempting to locate jupyter: Running cells with 'Python 3.8.10 64-bit' requires notebook and jupyter package.\n",
      "Run the following command to install 'jupyter and notebook' into the Python environment. \n",
      "Command: 'python -m pip install jupyter notebook -U\n",
      "or\n",
      "conda install jupyter notebook -U'\n",
      "Click <a href='https://aka.ms/installJupyterForVSCode'>here</a> for more info."
     ]
    }
   ],
   "source": [
    "df2.to_csv(\"all_decision_table.csv\")"
   ]
  },
  {
   "cell_type": "markdown",
   "metadata": {},
   "source": [
    "Uložení samplů do CSV"
   ]
  },
  {
   "cell_type": "code",
   "execution_count": null,
   "metadata": {},
   "outputs": [
    {
     "ename": "",
     "evalue": "",
     "output_type": "error",
     "traceback": [
      "\u001b[1;31mJupyter cannot be started. Error attempting to locate jupyter: Running cells with 'Python 3.8.10 64-bit' requires notebook and jupyter package.\n",
      "Run the following command to install 'jupyter and notebook' into the Python environment. \n",
      "Command: 'python -m pip install jupyter notebook -U\n",
      "or\n",
      "conda install jupyter notebook -U'\n",
      "Click <a href='https://aka.ms/installJupyterForVSCode'>here</a> for more info."
     ]
    }
   ],
   "source": [
    "sample_data.to_csv(\"decision_table.csv\")"
   ]
  },
  {
   "cell_type": "markdown",
   "metadata": {},
   "source": [
    "### Uložení do Excelu\n",
    "\n",
    "Uložení dat to excelové tabulky"
   ]
  },
  {
   "cell_type": "code",
   "execution_count": null,
   "metadata": {},
   "outputs": [
    {
     "ename": "",
     "evalue": "",
     "output_type": "error",
     "traceback": [
      "\u001b[1;31mJupyter cannot be started. Error attempting to locate jupyter: Running cells with 'Python 3.8.10 64-bit' requires notebook and jupyter package.\n",
      "Run the following command to install 'jupyter and notebook' into the Python environment. \n",
      "Command: 'python -m pip install jupyter notebook -U\n",
      "or\n",
      "conda install jupyter notebook -U'\n",
      "Click <a href='https://aka.ms/installJupyterForVSCode'>here</a> for more info."
     ]
    }
   ],
   "source": [
    "sample_data.to_excel(\"decision_table.xlsx\")"
   ]
  },
  {
   "cell_type": "markdown",
   "metadata": {},
   "source": [
    "Uložení veškerých dat to Excelu"
   ]
  },
  {
   "cell_type": "code",
   "execution_count": null,
   "metadata": {},
   "outputs": [
    {
     "ename": "",
     "evalue": "",
     "output_type": "error",
     "traceback": [
      "\u001b[1;31mJupyter cannot be started. Error attempting to locate jupyter: Running cells with 'Python 3.8.10 64-bit' requires notebook and jupyter package.\n",
      "Run the following command to install 'jupyter and notebook' into the Python environment. \n",
      "Command: 'python -m pip install jupyter notebook -U\n",
      "or\n",
      "conda install jupyter notebook -U'\n",
      "Click <a href='https://aka.ms/installJupyterForVSCode'>here</a> for more info."
     ]
    }
   ],
   "source": [
    "df2.to_excel(\"all_decision_table.xlsx\")"
   ]
  }
 ],
 "metadata": {
  "interpreter": {
   "hash": "4ec15c22a09bd42ab51fa9e5ec611f125857d7ba8c6383db67522e54bad75e43"
  },
  "kernelspec": {
   "display_name": "Python 3.9.12 64-bit (windows store)",
   "language": "python",
   "name": "python3"
  },
  "language_info": {
   "codemirror_mode": {
    "name": "ipython",
    "version": 3
   },
   "file_extension": ".py",
   "mimetype": "text/x-python",
   "name": "python",
   "nbconvert_exporter": "python",
   "pygments_lexer": "ipython3",
   "version": "3.8.10"
  },
  "orig_nbformat": 4
 },
 "nbformat": 4,
 "nbformat_minor": 2
}
